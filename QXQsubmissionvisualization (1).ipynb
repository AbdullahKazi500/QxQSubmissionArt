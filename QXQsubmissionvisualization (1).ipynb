{
 "cells": [
  {
   "cell_type": "code",
   "execution_count": 2,
   "metadata": {
    "colab": {
     "base_uri": "https://localhost:8080/"
    },
    "id": "IQK0Me2Hk-N5",
    "outputId": "9ce0c19f-244a-4391-a789-21b7abb3b276"
   },
   "outputs": [
    {
     "name": "stdout",
     "output_type": "stream",
     "text": [
      "Requirement already satisfied: qiskit in /opt/conda/lib/python3.8/site-packages (0.39.2)\n",
      "Requirement already satisfied: qiskit-terra==0.22.2 in /opt/conda/lib/python3.8/site-packages (from qiskit) (0.22.2)\n",
      "Requirement already satisfied: qiskit-aer==0.11.1 in /opt/conda/lib/python3.8/site-packages (from qiskit) (0.11.1)\n",
      "Requirement already satisfied: qiskit-ibmq-provider==0.19.2 in /opt/conda/lib/python3.8/site-packages (from qiskit) (0.19.2)\n",
      "Requirement already satisfied: scipy>=1.0 in /opt/conda/lib/python3.8/site-packages (from qiskit-aer==0.11.1->qiskit) (1.8.0)\n",
      "Requirement already satisfied: numpy>=1.16.3 in /opt/conda/lib/python3.8/site-packages (from qiskit-aer==0.11.1->qiskit) (1.22.4)\n",
      "Requirement already satisfied: requests-ntlm>=1.1.0 in /opt/conda/lib/python3.8/site-packages (from qiskit-ibmq-provider==0.19.2->qiskit) (1.1.0)\n",
      "Requirement already satisfied: websocket-client>=1.0.1 in /opt/conda/lib/python3.8/site-packages (from qiskit-ibmq-provider==0.19.2->qiskit) (1.3.2)\n",
      "Requirement already satisfied: websockets>=10.0 in /opt/conda/lib/python3.8/site-packages (from qiskit-ibmq-provider==0.19.2->qiskit) (10.4)\n",
      "Requirement already satisfied: requests>=2.19 in /opt/conda/lib/python3.8/site-packages (from qiskit-ibmq-provider==0.19.2->qiskit) (2.27.1)\n",
      "Requirement already satisfied: python-dateutil>=2.8.0 in /opt/conda/lib/python3.8/site-packages (from qiskit-ibmq-provider==0.19.2->qiskit) (2.8.2)\n",
      "Requirement already satisfied: urllib3>=1.21.1 in /opt/conda/lib/python3.8/site-packages (from qiskit-ibmq-provider==0.19.2->qiskit) (1.26.9)\n",
      "Requirement already satisfied: tweedledum<2.0,>=1.1 in /opt/conda/lib/python3.8/site-packages (from qiskit-terra==0.22.2->qiskit) (1.1.1)\n",
      "Requirement already satisfied: stevedore>=3.0.0 in /opt/conda/lib/python3.8/site-packages (from qiskit-terra==0.22.2->qiskit) (3.5.0)\n",
      "Requirement already satisfied: retworkx>=0.11.0 in /opt/conda/lib/python3.8/site-packages (from qiskit-terra==0.22.2->qiskit) (0.11.0)\n",
      "Requirement already satisfied: dill>=0.3 in /opt/conda/lib/python3.8/site-packages (from qiskit-terra==0.22.2->qiskit) (0.3.4)\n",
      "Requirement already satisfied: psutil>=5 in /opt/conda/lib/python3.8/site-packages (from qiskit-terra==0.22.2->qiskit) (5.9.0)\n",
      "Requirement already satisfied: ply>=3.10 in /opt/conda/lib/python3.8/site-packages (from qiskit-terra==0.22.2->qiskit) (3.11)\n",
      "Requirement already satisfied: sympy>=1.3 in /opt/conda/lib/python3.8/site-packages (from qiskit-terra==0.22.2->qiskit) (1.10.1)\n",
      "Requirement already satisfied: symengine>=0.9 in /opt/conda/lib/python3.8/site-packages (from qiskit-terra==0.22.2->qiskit) (0.9.2)\n",
      "Requirement already satisfied: six>=1.5 in /opt/conda/lib/python3.8/site-packages (from python-dateutil>=2.8.0->qiskit-ibmq-provider==0.19.2->qiskit) (1.16.0)\n",
      "Requirement already satisfied: idna<4,>=2.5 in /opt/conda/lib/python3.8/site-packages (from requests>=2.19->qiskit-ibmq-provider==0.19.2->qiskit) (3.3)\n",
      "Requirement already satisfied: charset-normalizer~=2.0.0 in /opt/conda/lib/python3.8/site-packages (from requests>=2.19->qiskit-ibmq-provider==0.19.2->qiskit) (2.0.12)\n",
      "Requirement already satisfied: certifi>=2017.4.17 in /opt/conda/lib/python3.8/site-packages (from requests>=2.19->qiskit-ibmq-provider==0.19.2->qiskit) (2021.10.8)\n",
      "Requirement already satisfied: cryptography>=1.3 in /opt/conda/lib/python3.8/site-packages (from requests-ntlm>=1.1.0->qiskit-ibmq-provider==0.19.2->qiskit) (36.0.2)\n",
      "Requirement already satisfied: ntlm-auth>=1.0.2 in /opt/conda/lib/python3.8/site-packages (from requests-ntlm>=1.1.0->qiskit-ibmq-provider==0.19.2->qiskit) (1.5.0)\n",
      "Requirement already satisfied: cffi>=1.12 in /opt/conda/lib/python3.8/site-packages (from cryptography>=1.3->requests-ntlm>=1.1.0->qiskit-ibmq-provider==0.19.2->qiskit) (1.15.0)\n",
      "Requirement already satisfied: pycparser in /opt/conda/lib/python3.8/site-packages (from cffi>=1.12->cryptography>=1.3->requests-ntlm>=1.1.0->qiskit-ibmq-provider==0.19.2->qiskit) (2.21)\n",
      "Requirement already satisfied: pbr!=2.1.0,>=2.0.0 in /opt/conda/lib/python3.8/site-packages (from stevedore>=3.0.0->qiskit-terra==0.22.2->qiskit) (5.8.1)\n",
      "Requirement already satisfied: mpmath>=0.19 in /opt/conda/lib/python3.8/site-packages (from sympy>=1.3->qiskit-terra==0.22.2->qiskit) (1.2.1)\n"
     ]
    }
   ],
   "source": [
    "!pip install qiskit"
   ]
  },
  {
   "cell_type": "code",
   "execution_count": 3,
   "metadata": {
    "colab": {
     "base_uri": "https://localhost:8080/",
     "height": 336
    },
    "id": "mpUQ0nHxmArz",
    "outputId": "a6b00afa-0c80-41e2-b31f-6034237ac2b6"
   },
   "outputs": [
    {
     "name": "stderr",
     "output_type": "stream",
     "text": [
      "<frozen importlib._bootstrap>:219: RuntimeWarning: scipy._lib.messagestream.MessageStream size changed, may indicate binary incompatibility. Expected 56 from C header, got 64 from PyObject\n"
     ]
    },
    {
     "data": {
      "image/png": "[encoded data removed]",
      "text/plain": [
       "<Figure size 360x360 with 1 Axes>"
      ]
     },
     "metadata": {
      "needs_background": "light"
     },
     "output_type": "display_data"
    }
   ],
   "source": [
    "import numpy as np\n",
    "from qiskit import QuantumCircuit, Aer, execute\n",
    "from qiskit.visualization import plot_bloch_multivector\n",
    "import matplotlib.animation as animation\n",
    "import matplotlib.pyplot as plt\n",
    "\n",
    "# Define a circuit that creates an entangled state of two qubits\n",
    "qc = QuantumCircuit(2)\n",
    "qc.h(0)\n",
    "qc.cx(0, 1)\n",
    "\n",
    "# Define a backend for simulation\n",
    "backend = Aer.get_backend('statevector_simulator')\n",
    "\n",
    "# Simulate the circuit and get the state vector\n",
    "result = execute(qc, backend).result()\n",
    "state_vector = result.get_statevector()\n",
    "\n",
    "# Define a function to update the animation at each frame\n",
    "def update(frame):\n",
    "    # Create a new circuit that applies a rotation to the first qubit\n",
    "    angle = 2 * frame * np.pi / num_frames\n",
    "    qc_frame = QuantumCircuit(2)\n",
    "    qc_frame.ry(angle, 0)\n",
    "    qc_frame.cx(0, 1)\n",
    "\n",
    "    # Simulate the new circuit and get the state vector\n",
    "    result_frame = execute(qc_frame, backend).result()\n",
    "    state_vector_frame = result_frame.get_statevector()\n",
    "\n",
    "    # Plot the state vector as a bloch sphere\n",
    "    fig.clear()\n",
    "    plot_bloch_multivector(state_vector_frame).show()\n",
    "\n",
    "    # Set the title of the plot to show the current frame\n",
    "    plt.title(f\"Frame {frame+1}/{num_frames}\")\n",
    "\n",
    "# Define the number of frames and the duration of the animation\n",
    "num_frames = 30\n",
    "duration = 5000 # in milliseconds\n",
    "\n",
    "# Create a figure for the plot\n",
    "fig = plt.figure(figsize=(5,5))\n",
    "\n",
    "# Create the animation and save it to a file\n",
    "anim = animation.FuncAnimation(fig, update, frames=num_frames, interval=duration/num_frames)\n",
    "anim.save('entanglement.mp4', writer='ffmpeg')\n"
   ]
  },
  {
   "cell_type": "code",
   "execution_count": 4,
   "metadata": {
    "colab": {
     "base_uri": "https://localhost:8080/",
     "height": 306
    },
    "id": "1aQaOusemaVV",
    "outputId": "686621dd-b0c8-4950-aaaa-c7ea3a29c051"
   },
   "outputs": [
    {
     "data": {
      "image/png": "[encoded data removed]",
      "text/plain": [
       "<Figure size 360x360 with 1 Axes>"
      ]
     },
     "metadata": {},
     "output_type": "display_data"
    }
   ],
   "source": [
    "import numpy as np\n",
    "from qiskit import QuantumCircuit, Aer, execute\n",
    "import matplotlib.pyplot as plt\n",
    "\n",
    "\n",
    "# Define a circuit that generates a random pattern of dots\n",
    "num_qubits = 4\n",
    "qc = QuantumCircuit(num_qubits, num_qubits)\n",
    "qc.h(range(num_qubits))\n",
    "qc.measure(range(num_qubits), range(num_qubits))\n",
    "\n",
    "# Define a backend for simulation\n",
    "backend = Aer.get_backend('qasm_simulator')\n",
    "\n",
    "# Simulate the circuit and get the counts\n",
    "result = execute(qc, backend, shots=1).result()\n",
    "counts = result.get_counts()\n",
    "\n",
    "# Convert the counts to a binary string\n",
    "binary_string = list(counts.keys())[0]\n",
    "\n",
    "# Convert the binary string to an array of integers\n",
    "int_array = np.array([int(bit) for bit in binary_string[::-1]])\n",
    "\n",
    "# Reshape the array to a 2D grid\n",
    "size = int(np.sqrt(num_qubits))\n",
    "grid = np.reshape(int_array, (size, size))\n",
    "\n",
    "# Create a color map for the dots\n",
    "cmap = plt.cm.get_cmap('cool')\n",
    "\n",
    "# Plot the dots as a scatter plot\n",
    "fig, ax = plt.subplots(figsize=(5,5))\n",
    "for i in range(size):\n",
    "    for j in range(size):\n",
    "        if grid[i][j] == 1:\n",
    "            color = cmap(i/size)\n",
    "            ax.scatter(j, i, color=color, s=100)\n",
    "\n",
    "# Set the limits of the plot\n",
    "ax.set_xlim([0, size-1])\n",
    "ax.set_ylim([0, size-1])\n",
    "\n",
    "# Remove the tick labels\n",
    "ax.set_xticks([])\n",
    "ax.set_yticks([])\n",
    "\n",
    "# Save the plot to a file\n",
    "fig.savefig('random_pattern.png')\n"
   ]
  },
  {
   "cell_type": "code",
   "execution_count": 5,
   "metadata": {
    "colab": {
     "base_uri": "https://localhost:8080/",
     "height": 356
    },
    "id": "rEN3_JpHnTpq",
    "outputId": "e36cdab4-c6c0-4473-82ec-7307b8f9d7c4"
   },
   "outputs": [
    {
     "data": {
      "image/png": "[encoded data removed]",
      "text/plain": [
       "<Figure size 432x288 with 1 Axes>"
      ]
     },
     "metadata": {
      "needs_background": "light"
     },
     "output_type": "display_data"
    }
   ],
   "source": [
    "from qiskit import QuantumCircuit, execute, Aer\n",
    "import numpy as np\n",
    "\n",
    "# Define the number of qubits and shots\n",
    "num_qubits = 2\n",
    "num_shots = 1024\n",
    "\n",
    "# Define the quantum circuit\n",
    "qc = QuantumCircuit(num_qubits, num_qubits)\n",
    "qc.h(0)\n",
    "qc.cx(0, 1)\n",
    "qc.measure(range(num_qubits), range(num_qubits))\n",
    "\n",
    "# Define the backend\n",
    "backend = Aer.get_backend('qasm_simulator')\n",
    "\n",
    "# Simulate the circuit and get the counts\n",
    "result = execute(qc, backend, shots=num_shots).result()\n",
    "counts = result.get_counts()\n",
    "\n",
    "# Get the most frequent states and convert them to coordinates\n",
    "coords = []\n",
    "for state, count in counts.items():\n",
    "    binary = format(int(state, 2), f'0{num_qubits}b')\n",
    "    coords.append((int(binary[0]), int(binary[1]), count/num_shots))\n",
    "\n",
    "# Define the colors for each point\n",
    "colors = [(1, 0, 0, coord[2]) if coord[0] == 0 else (0, 0, 1, coord[2]) for coord in coords]\n",
    "\n",
    "# Plot the points\n",
    "import matplotlib.pyplot as plt\n",
    "from mpl_toolkits.mplot3d import Axes3D\n",
    "\n",
    "fig = plt.figure()\n",
    "ax = fig.add_subplot(111, projection='3d')\n",
    "ax.scatter([coord[0] for coord in coords], [coord[1] for coord in coords], [0]*len(coords), c=colors, s=100)\n",
    "ax.set_xticks([0, 1])\n",
    "ax.set_yticks([0, 1])\n",
    "ax.set_zticks([0])\n",
    "ax.set_xlabel('Qubit 0')\n",
    "ax.set_ylabel('Qubit 1')\n",
    "ax.set_zlabel('Counts')\n",
    "plt.show()\n"
   ]
  },
  {
   "cell_type": "code",
   "execution_count": 6,
   "metadata": {},
   "outputs": [
    {
     "data": {
      "image/png": "[encoded data removed]",
      "text/plain": [
       "<Figure size 432x288 with 1 Axes>"
      ]
     },
     "metadata": {
      "needs_background": "light"
     },
     "output_type": "display_data"
    }
   ],
   "source": [
    "from qiskit import QuantumCircuit, execute, Aer\n",
    "import numpy as np\n",
    "from matplotlib.path import Path\n",
    "import matplotlib.patches as patches\n",
    "import matplotlib.pyplot as plt\n",
    "\n",
    "# Define the number of qubits and shots\n",
    "num_qubits = 2\n",
    "num_shots = 1024\n",
    "\n",
    "# Define the quantum circuit\n",
    "qc = QuantumCircuit(num_qubits, num_qubits)\n",
    "qc.h(0)\n",
    "qc.cx(0, 1)\n",
    "qc.measure(range(num_qubits), range(num_qubits))\n",
    "\n",
    "# Define the backend\n",
    "backend = Aer.get_backend('qasm_simulator')\n",
    "\n",
    "# Simulate the circuit and get the counts\n",
    "result = execute(qc, backend, shots=num_shots).result()\n",
    "counts = result.get_counts()\n",
    "\n",
    "# Define the heart shape using Path\n",
    "heart_verts = [\n",
    "    (0, 0),\n",
    "    (-1, -1),\n",
    "    (-2, -1),\n",
    "    (-3, 0),\n",
    "    (-3, 1),\n",
    "    (-2, 2),\n",
    "    (-1, 2),\n",
    "    (0, 1),\n",
    "]\n",
    "\n",
    "heart_codes = [\n",
    "    Path.MOVETO,\n",
    "    Path.CURVE4,\n",
    "    Path.CURVE4,\n",
    "    Path.CURVE4,\n",
    "    Path.CURVE4,\n",
    "    Path.CURVE4,\n",
    "    Path.CURVE4,\n",
    "    Path.CURVE4,\n",
    "]\n",
    "\n",
    "heart_path = Path(heart_verts, heart_codes)\n",
    "\n",
    "# Define the colors for each point\n",
    "coords = []\n",
    "for state, count in counts.items():\n",
    "    binary = format(int(state, 2), f'0{num_qubits}b')\n",
    "    coords.append((int(binary[0]), int(binary[1]), count/num_shots))\n",
    "\n",
    "colors = [(1, 0, 0, coord[2]) if coord[0] == 0 else (0, 0, 1, coord[2]) for coord in coords]\n",
    "\n",
    "# Plot the heart\n",
    "fig, ax = plt.subplots()\n",
    "heart = patches.PathPatch(heart_path, facecolor='none', edgecolor='black', lw=2)\n",
    "ax.add_patch(heart)\n",
    "\n",
    "for i, coord in enumerate(coords):\n",
    "    color = colors[i]\n",
    "    x, y = (coord[0] + 1)/2, (coord[1] + 1)/2\n",
    "    point = patches.Circle((x, y), radius=0.05, color=color)\n",
    "    ax.add_patch(point)\n",
    "\n",
    "ax.set_xlim(-0.5, 1.5)\n",
    "ax.set_ylim(-0.5, 1.5)\n",
    "ax.set_aspect('equal')\n",
    "plt.axis('off')\n",
    "plt.show()\n"
   ]
  },
  {
   "cell_type": "code",
   "execution_count": 8,
   "metadata": {},
   "outputs": [
    {
     "data": {
      "image/png": "[encoded data removed]",
      "text/plain": [
       "<Figure size 507.997x325.08 with 1 Axes>"
      ]
     },
     "execution_count": 8,
     "metadata": {},
     "output_type": "execute_result"
    }
   ],
   "source": [
    "from qiskit.tools.visualization import circuit_drawer\n",
    "from qiskit import QuantumCircuit, Aer, execute\n",
    "\n",
    "# Create a quantum circuit with 5 qubits\n",
    "qc = QuantumCircuit(5)\n",
    "\n",
    "# Add gates to write the word \"I Love QXQ\" in binary\n",
    "qc.x(0)  # I\n",
    "qc.cx(0, 1)  # L\n",
    "qc.cx(1, 2)  # O\n",
    "qc.cx(2, 3)  # V\n",
    "qc.x(3)  # E\n",
    "qc.cx(3, 4)  # Q\n",
    "qc.x(4)  # X\n",
    "\n",
    "# Draw the circuit using the matplotlib format\n",
    "circuit_drawer(qc, output='mpl')\n",
    "\n"
   ]
  },
  {
   "cell_type": "code",
   "execution_count": 9,
   "metadata": {},
   "outputs": [
    {
     "data": {
      "text/plain": [
       "<Figure size 432x288 with 0 Axes>"
      ]
     },
     "metadata": {},
     "output_type": "display_data"
    }
   ],
   "source": [
    "from qiskit.tools.visualization import circuit_drawer\n",
    "from qiskit import QuantumCircuit, Aer, execute\n",
    "import matplotlib.pyplot as plt\n",
    "\n",
    "# Create a quantum circuit with 5 qubits\n",
    "qc = QuantumCircuit(5)\n",
    "\n",
    "# Add gates to write the word \"I Love QXQ\" in binary\n",
    "qc.x(0)  # I\n",
    "qc.cx(0, 1)  # L\n",
    "qc.cx(1, 2)  # O\n",
    "qc.cx(2, 3)  # V\n",
    "qc.x(3)  # E\n",
    "qc.cx(3, 4)  # Q\n",
    "qc.x(4)  # X\n",
    "\n",
    "# Draw the circuit using the matplotlib format\n",
    "fig = circuit_drawer(qc, output='mpl')\n",
    "\n",
    "# Save the figure as a PNG image\n",
    "plt.savefig('iloveqxq.png')\n"
   ]
  },
  {
   "cell_type": "code",
   "execution_count": 10,
   "metadata": {},
   "outputs": [
    {
     "data": {
      "image/png": "[encoded data removed]",
      "text/plain": [
       "<Figure size 432x288 with 1 Axes>"
      ]
     },
     "metadata": {
      "needs_background": "light"
     },
     "output_type": "display_data"
    }
   ],
   "source": [
    "from qiskit.tools.visualization import circuit_drawer\n",
    "from qiskit import QuantumCircuit, Aer, execute\n",
    "import matplotlib.pyplot as plt\n",
    "import matplotlib.image as mpimg\n",
    "\n",
    "# Create a quantum circuit with 5 qubits\n",
    "qc = QuantumCircuit(5)\n",
    "\n",
    "# Add gates to write the word \"I Love QXQ\" in binary\n",
    "qc.x(0)  # I\n",
    "qc.cx(0, 1)  # L\n",
    "qc.cx(1, 2)  # O\n",
    "qc.cx(2, 3)  # V\n",
    "qc.x(3)  # E\n",
    "qc.cx(3, 4)  # Q\n",
    "qc.x(4)  # X\n",
    "\n",
    "# Draw the circuit using the matplotlib format\n",
    "fig = circuit_drawer(qc, output='mpl')\n",
    "\n",
    "# Save the figure as a PNG image\n",
    "plt.savefig('iloveqxq.png')\n",
    "\n",
    "# Display the image\n",
    "img = mpimg.imread('iloveqxq.png')\n",
    "plt.imshow(img)\n",
    "plt.axis('off')\n",
    "plt.show()\n"
   ]
  },
  {
   "cell_type": "code",
   "execution_count": 11,
   "metadata": {},
   "outputs": [
    {
     "name": "stdout",
     "output_type": "stream",
     "text": [
      "Collecting qiskit-metal\n",
      "  Downloading qiskit_metal-0.1.2-py3-none-any.whl (2.6 MB)\n",
      "\u001b[K     |████████████████████████████████| 2.6 MB 20.6 MB/s eta 0:00:01\n",
      "\u001b[?25hRequirement already satisfied: matplotlib in /opt/conda/lib/python3.8/site-packages (from qiskit-metal) (3.5.1)\n",
      "Requirement already satisfied: pygments in /opt/conda/lib/python3.8/site-packages (from qiskit-metal) (2.11.2)\n",
      "Requirement already satisfied: ipython in /opt/conda/lib/python3.8/site-packages (from qiskit-metal) (8.2.0)\n",
      "Requirement already satisfied: numpy in /opt/conda/lib/python3.8/site-packages (from qiskit-metal) (1.22.4)\n",
      "Collecting qutip\n",
      "  Downloading qutip-4.7.1-cp38-cp38-manylinux_2_17_x86_64.manylinux2014_x86_64.whl (16.7 MB)\n",
      "\u001b[K     |████████████████████████████████| 16.7 MB 73 kB/s s eta 0:00:01\n",
      "\u001b[?25hCollecting geopandas\n",
      "  Downloading geopandas-0.12.2-py3-none-any.whl (1.1 MB)\n",
      "\u001b[K     |████████████████████████████████| 1.1 MB 56.3 MB/s eta 0:00:01\n",
      "\u001b[?25hCollecting addict\n",
      "  Downloading addict-2.4.0-py3-none-any.whl (3.8 kB)\n",
      "Collecting pyside2\n",
      "  Downloading PySide2-5.15.2.1-5.15.2-cp35.cp36.cp37.cp38.cp39.cp310-abi3-manylinux1_x86_64.whl (164.3 MB)\n",
      "\u001b[K     |████████████████████████████████| 164.3 MB 17 kB/s s eta 0:00:01               | 38.9 MB 52.4 MB/s eta 0:00:03ta 0:00:01�█▏ | 154.8 MB 17.2 MB/s eta 0:00:01\n",
      "\u001b[?25hCollecting pint\n",
      "  Downloading Pint-0.20.1-py3-none-any.whl (269 kB)\n",
      "\u001b[K     |████████████████████████████████| 269 kB 47.8 MB/s eta 0:00:01\n",
      "\u001b[?25hCollecting gdspy>=1.5.2\n",
      "  Downloading gdspy-1.6.12.zip (157 kB)\n",
      "\u001b[K     |████████████████████████████████| 157 kB 71.4 MB/s eta 0:00:01\n",
      "\u001b[?25hCollecting pyEPR-quantum>=0.8.5.7\n",
      "  Downloading pyEPR_quantum-0.8.5.7-py3-none-any.whl (102 kB)\n",
      "\u001b[K     |████████████████████████████████| 102 kB 137 kB/s eta 0:00:01\n",
      "\u001b[?25hRequirement already satisfied: pandas in /opt/conda/lib/python3.8/site-packages (from qiskit-metal) (1.3.5)\n",
      "Requirement already satisfied: scipy in /opt/conda/lib/python3.8/site-packages (from qiskit-metal) (1.8.0)\n",
      "Collecting shapely\n",
      "  Downloading shapely-2.0.1-cp38-cp38-manylinux_2_17_x86_64.manylinux2014_x86_64.whl (2.3 MB)\n",
      "\u001b[K     |████████████████████████████████| 2.3 MB 21.9 MB/s eta 0:00:01\n",
      "\u001b[?25hCollecting scqubits\n",
      "  Downloading scqubits-3.1.0-py3-none-any.whl (6.8 MB)\n",
      "\u001b[K     |████████████████████████████████| 6.8 MB 45.8 MB/s eta 0:00:01\n",
      "\u001b[?25hCollecting descartes\n",
      "  Downloading descartes-1.1.0-py3-none-any.whl (5.8 kB)\n",
      "Collecting sphinx-rtd-theme>=0.4.0\n",
      "  Downloading sphinx_rtd_theme-1.2.0-py2.py3-none-any.whl (2.8 MB)\n",
      "\u001b[K     |████████████████████████████████| 2.8 MB 66.3 MB/s eta 0:00:01\n",
      "\u001b[?25hRequirement already satisfied: sympy>=1.3 in /opt/conda/lib/python3.8/site-packages (from pyEPR-quantum>=0.8.5.7->qiskit-metal) (1.10.1)\n",
      "Requirement already satisfied: seaborn>=0.10.0 in /opt/conda/lib/python3.8/site-packages (from pyEPR-quantum>=0.8.5.7->qiskit-metal) (0.11.2)\n",
      "Collecting xarray>=0.10.0\n",
      "  Downloading xarray-2023.1.0-py3-none-any.whl (973 kB)\n",
      "\u001b[K     |████████████████████████████████| 973 kB 40.8 MB/s eta 0:00:01\n",
      "\u001b[?25hRequirement already satisfied: pickleshare in /opt/conda/lib/python3.8/site-packages (from ipython->qiskit-metal) (0.7.5)\n",
      "Requirement already satisfied: traitlets>=5 in /opt/conda/lib/python3.8/site-packages (from ipython->qiskit-metal) (5.1.1)\n",
      "Requirement already satisfied: decorator in /opt/conda/lib/python3.8/site-packages (from ipython->qiskit-metal) (5.1.1)\n",
      "Requirement already satisfied: pexpect>4.3 in /opt/conda/lib/python3.8/site-packages (from ipython->qiskit-metal) (4.8.0)\n",
      "Requirement already satisfied: backcall in /opt/conda/lib/python3.8/site-packages (from ipython->qiskit-metal) (0.2.0)\n",
      "Requirement already satisfied: prompt-toolkit!=3.0.0,!=3.0.1,<3.1.0,>=2.0.0 in /opt/conda/lib/python3.8/site-packages (from ipython->qiskit-metal) (3.0.28)\n",
      "Requirement already satisfied: setuptools>=18.5 in /opt/conda/lib/python3.8/site-packages (from ipython->qiskit-metal) (61.2.0)\n",
      "Requirement already satisfied: stack-data in /opt/conda/lib/python3.8/site-packages (from ipython->qiskit-metal) (0.2.0)\n",
      "Requirement already satisfied: matplotlib-inline in /opt/conda/lib/python3.8/site-packages (from ipython->qiskit-metal) (0.1.3)\n",
      "Requirement already satisfied: jedi>=0.16 in /opt/conda/lib/python3.8/site-packages (from ipython->qiskit-metal) (0.18.1)\n",
      "Requirement already satisfied: parso<0.9.0,>=0.8.0 in /opt/conda/lib/python3.8/site-packages (from jedi>=0.16->ipython->qiskit-metal) (0.8.3)\n",
      "Requirement already satisfied: pillow>=6.2.0 in /opt/conda/lib/python3.8/site-packages (from matplotlib->qiskit-metal) (9.0.1)\n",
      "Requirement already satisfied: kiwisolver>=1.0.1 in /opt/conda/lib/python3.8/site-packages (from matplotlib->qiskit-metal) (1.4.2)\n",
      "Requirement already satisfied: python-dateutil>=2.7 in /opt/conda/lib/python3.8/site-packages (from matplotlib->qiskit-metal) (2.8.2)\n",
      "Requirement already satisfied: pyparsing>=2.2.1 in /opt/conda/lib/python3.8/site-packages (from matplotlib->qiskit-metal) (3.0.7)\n",
      "Requirement already satisfied: cycler>=0.10 in /opt/conda/lib/python3.8/site-packages (from matplotlib->qiskit-metal) (0.11.0)\n",
      "Requirement already satisfied: fonttools>=4.22.0 in /opt/conda/lib/python3.8/site-packages (from matplotlib->qiskit-metal) (4.31.2)\n",
      "Requirement already satisfied: packaging>=20.0 in /opt/conda/lib/python3.8/site-packages (from matplotlib->qiskit-metal) (21.3)\n",
      "Requirement already satisfied: pytz>=2017.3 in /opt/conda/lib/python3.8/site-packages (from pandas->qiskit-metal) (2022.7.1)\n",
      "Requirement already satisfied: ptyprocess>=0.5 in /opt/conda/lib/python3.8/site-packages (from pexpect>4.3->ipython->qiskit-metal) (0.7.0)\n",
      "Requirement already satisfied: wcwidth in /opt/conda/lib/python3.8/site-packages (from prompt-toolkit!=3.0.0,!=3.0.1,<3.1.0,>=2.0.0->ipython->qiskit-metal) (0.2.5)\n",
      "Requirement already satisfied: six>=1.5 in /opt/conda/lib/python3.8/site-packages (from python-dateutil>=2.7->matplotlib->qiskit-metal) (1.16.0)\n",
      "Collecting docutils<0.19\n",
      "  Downloading docutils-0.18.1-py2.py3-none-any.whl (570 kB)\n",
      "\u001b[K     |████████████████████████████████| 570 kB 62.6 MB/s eta 0:00:01\n",
      "\u001b[?25hCollecting sphinxcontrib-jquery!=3.0.0,>=2.0.0\n",
      "  Downloading sphinxcontrib_jquery-2.0.0-py3-none-any.whl (3.2 kB)\n",
      "Collecting sphinx<7,>=1.6\n",
      "  Downloading sphinx-6.1.3-py3-none-any.whl (3.0 MB)\n",
      "\u001b[K     |████████████████████████████████| 3.0 MB 56.3 MB/s eta 0:00:01\n",
      "\u001b[?25hRequirement already satisfied: babel>=2.9 in /opt/conda/lib/python3.8/site-packages (from sphinx<7,>=1.6->sphinx-rtd-theme>=0.4.0->pyEPR-quantum>=0.8.5.7->qiskit-metal) (2.11.0)\n",
      "Collecting snowballstemmer>=2.0\n",
      "  Downloading snowballstemmer-2.2.0-py2.py3-none-any.whl (93 kB)\n",
      "\u001b[K     |████████████████████████████████| 93 kB 13 kB/s s eta 0:00:01\n",
      "\u001b[?25hCollecting sphinxcontrib-applehelp\n",
      "  Downloading sphinxcontrib_applehelp-1.0.4-py3-none-any.whl (120 kB)\n",
      "\u001b[K     |████████████████████████████████| 120 kB 20.9 MB/s eta 0:00:01\n",
      "\u001b[?25hCollecting pygments\n",
      "  Downloading Pygments-2.14.0-py3-none-any.whl (1.1 MB)\n",
      "\u001b[K     |████████████████████████████████| 1.1 MB 75.6 MB/s eta 0:00:01\n",
      "\u001b[?25hRequirement already satisfied: requests>=2.25.0 in /opt/conda/lib/python3.8/site-packages (from sphinx<7,>=1.6->sphinx-rtd-theme>=0.4.0->pyEPR-quantum>=0.8.5.7->qiskit-metal) (2.27.1)\n",
      "Collecting sphinxcontrib-devhelp\n",
      "  Downloading sphinxcontrib_devhelp-1.0.2-py2.py3-none-any.whl (84 kB)\n",
      "\u001b[K     |████████████████████████████████| 84 kB 47 kB/s s eta 0:00:01\n",
      "\u001b[?25hRequirement already satisfied: importlib-metadata>=4.8 in /opt/conda/lib/python3.8/site-packages (from sphinx<7,>=1.6->sphinx-rtd-theme>=0.4.0->pyEPR-quantum>=0.8.5.7->qiskit-metal) (6.0.0)\n",
      "Collecting imagesize>=1.3\n",
      "  Downloading imagesize-1.4.1-py2.py3-none-any.whl (8.8 kB)\n",
      "Requirement already satisfied: Jinja2>=3.0 in /opt/conda/lib/python3.8/site-packages (from sphinx<7,>=1.6->sphinx-rtd-theme>=0.4.0->pyEPR-quantum>=0.8.5.7->qiskit-metal) (3.1.2)\n",
      "Collecting sphinxcontrib-qthelp\n",
      "  Downloading sphinxcontrib_qthelp-1.0.3-py2.py3-none-any.whl (90 kB)\n",
      "\u001b[K     |████████████████████████████████| 90 kB 66 kB/s s eta 0:00:01\n",
      "\u001b[?25hCollecting sphinxcontrib-htmlhelp>=2.0.0\n",
      "  Downloading sphinxcontrib_htmlhelp-2.0.1-py3-none-any.whl (99 kB)\n",
      "\u001b[K     |████████████████████████████████| 99 kB 169 kB/s  eta 0:00:01\n",
      "\u001b[?25hCollecting alabaster<0.8,>=0.7\n",
      "  Downloading alabaster-0.7.13-py3-none-any.whl (13 kB)\n",
      "Collecting sphinxcontrib-jsmath\n",
      "  Downloading sphinxcontrib_jsmath-1.0.1-py2.py3-none-any.whl (5.1 kB)\n",
      "Collecting sphinxcontrib-serializinghtml>=1.1.5\n",
      "  Downloading sphinxcontrib_serializinghtml-1.1.5-py2.py3-none-any.whl (94 kB)\n",
      "\u001b[K     |████████████████████████████████| 94 kB 67 kB/s s eta 0:00:01\n",
      "\u001b[?25hRequirement already satisfied: zipp>=0.5 in /opt/conda/lib/python3.8/site-packages (from importlib-metadata>=4.8->sphinx<7,>=1.6->sphinx-rtd-theme>=0.4.0->pyEPR-quantum>=0.8.5.7->qiskit-metal) (3.7.0)\n",
      "Requirement already satisfied: MarkupSafe>=2.0 in /opt/conda/lib/python3.8/site-packages (from Jinja2>=3.0->sphinx<7,>=1.6->sphinx-rtd-theme>=0.4.0->pyEPR-quantum>=0.8.5.7->qiskit-metal) (2.1.1)\n",
      "Requirement already satisfied: urllib3<1.27,>=1.21.1 in /opt/conda/lib/python3.8/site-packages (from requests>=2.25.0->sphinx<7,>=1.6->sphinx-rtd-theme>=0.4.0->pyEPR-quantum>=0.8.5.7->qiskit-metal) (1.26.9)\n",
      "Requirement already satisfied: certifi>=2017.4.17 in /opt/conda/lib/python3.8/site-packages (from requests>=2.25.0->sphinx<7,>=1.6->sphinx-rtd-theme>=0.4.0->pyEPR-quantum>=0.8.5.7->qiskit-metal) (2021.10.8)\n",
      "Requirement already satisfied: idna<4,>=2.5 in /opt/conda/lib/python3.8/site-packages (from requests>=2.25.0->sphinx<7,>=1.6->sphinx-rtd-theme>=0.4.0->pyEPR-quantum>=0.8.5.7->qiskit-metal) (3.3)\n",
      "Requirement already satisfied: charset-normalizer~=2.0.0 in /opt/conda/lib/python3.8/site-packages (from requests>=2.25.0->sphinx<7,>=1.6->sphinx-rtd-theme>=0.4.0->pyEPR-quantum>=0.8.5.7->qiskit-metal) (2.0.12)\n",
      "Requirement already satisfied: mpmath>=0.19 in /opt/conda/lib/python3.8/site-packages (from sympy>=1.3->pyEPR-quantum>=0.8.5.7->qiskit-metal) (1.2.1)\n",
      "Collecting fiona>=1.8\n",
      "  Downloading Fiona-1.9.1-cp38-cp38-manylinux_2_17_x86_64.manylinux2014_x86_64.whl (16.0 MB)\n",
      "\u001b[K     |████████████████████████████████| 16.0 MB 71 kB/s s eta 0:00:01\n",
      "\u001b[?25hCollecting pyproj>=2.6.1.post1\n",
      "  Downloading pyproj-3.4.1-cp38-cp38-manylinux_2_17_x86_64.manylinux2014_x86_64.whl (7.8 MB)\n",
      "\u001b[K     |████████████████████████████████| 7.8 MB 67.5 MB/s eta 0:00:01\n",
      "\u001b[?25hCollecting munch>=2.3.2\n",
      "  Downloading munch-2.5.0-py2.py3-none-any.whl (10 kB)\n",
      "Collecting click-plugins>=1.0\n",
      "  Downloading click_plugins-1.1.1-py2.py3-none-any.whl (7.5 kB)\n",
      "Requirement already satisfied: click~=8.0 in /opt/conda/lib/python3.8/site-packages (from fiona>=1.8->geopandas->qiskit-metal) (8.1.3)\n",
      "Requirement already satisfied: attrs>=19.2.0 in /opt/conda/lib/python3.8/site-packages (from fiona>=1.8->geopandas->qiskit-metal) (21.4.0)\n",
      "Collecting cligj>=0.5\n",
      "  Downloading cligj-0.7.2-py3-none-any.whl (7.1 kB)\n",
      "Collecting shiboken2==5.15.2.1\n",
      "  Downloading shiboken2-5.15.2.1-5.15.2-cp35.cp36.cp37.cp38.cp39.cp310-abi3-manylinux1_x86_64.whl (975 kB)\n",
      "\u001b[K     |████████████████████████████████| 975 kB 71.9 MB/s eta 0:00:01\n",
      "\u001b[?25hRequirement already satisfied: typing-extensions in /opt/conda/lib/python3.8/site-packages (from scqubits->qiskit-metal) (4.4.0)\n",
      "Requirement already satisfied: tqdm in /opt/conda/lib/python3.8/site-packages (from scqubits->qiskit-metal) (4.64.1)\n",
      "Requirement already satisfied: pyyaml in /opt/conda/lib/python3.8/site-packages (from scqubits->qiskit-metal) (6.0)\n",
      "Requirement already satisfied: asttokens in /opt/conda/lib/python3.8/site-packages (from stack-data->ipython->qiskit-metal) (2.0.5)\n",
      "Requirement already satisfied: pure-eval in /opt/conda/lib/python3.8/site-packages (from stack-data->ipython->qiskit-metal) (0.2.2)\n",
      "Requirement already satisfied: executing in /opt/conda/lib/python3.8/site-packages (from stack-data->ipython->qiskit-metal) (0.8.3)\n",
      "Building wheels for collected packages: gdspy\n",
      "  Building wheel for gdspy (setup.py) ... \u001b[?25ldone\n",
      "\u001b[?25h  Created wheel for gdspy: filename=gdspy-1.6.12-cp38-cp38-linux_x86_64.whl size=169587 sha256=b06eb03259cd1beaa7ab9ad581e3e73a3b3a6c03973fab84d1b5912fd8de4df3\n",
      "  Stored in directory: /home/jovyan/.cache/pip/wheels/03/ed/d5/f89483da9ebf5b67e58ba967e19132ae7703a6409727790445\n",
      "Successfully built gdspy\n",
      "Installing collected packages: sphinxcontrib-serializinghtml, sphinxcontrib-qthelp, sphinxcontrib-jsmath, sphinxcontrib-htmlhelp, sphinxcontrib-devhelp, sphinxcontrib-applehelp, snowballstemmer, pygments, imagesize, docutils, alabaster, sphinxcontrib-jquery, sphinx, munch, cligj, click-plugins, xarray, sphinx-rtd-theme, shiboken2, shapely, qutip, pyproj, pint, fiona, addict, scqubits, pyside2, pyEPR-quantum, geopandas, gdspy, descartes, qiskit-metal\n",
      "  Attempting uninstall: pygments\n",
      "    Found existing installation: Pygments 2.11.2\n",
      "    Uninstalling Pygments-2.11.2:\n",
      "      Successfully uninstalled Pygments-2.11.2\n",
      "\u001b[31mERROR: pip's dependency resolver does not currently take into account all the packages that are installed. This behaviour is the source of the following dependency conflicts.\n",
      "jupyter-server 1.23.5 requires jupyter-core!=5.0.*,>=4.12, but you have jupyter-core 4.9.2 which is incompatible.\u001b[0m\n",
      "Successfully installed addict-2.4.0 alabaster-0.7.13 click-plugins-1.1.1 cligj-0.7.2 descartes-1.1.0 docutils-0.18.1 fiona-1.9.1 gdspy-1.6.12 geopandas-0.12.2 imagesize-1.4.1 munch-2.5.0 pint-0.20.1 pyEPR-quantum-0.8.5.7 pygments-2.14.0 pyproj-3.4.1 pyside2-5.15.2.1 qiskit-metal-0.1.2 qutip-4.7.1 scqubits-3.1.0 shapely-2.0.1 shiboken2-5.15.2.1 snowballstemmer-2.2.0 sphinx-6.1.3 sphinx-rtd-theme-1.2.0 sphinxcontrib-applehelp-1.0.4 sphinxcontrib-devhelp-1.0.2 sphinxcontrib-htmlhelp-2.0.1 sphinxcontrib-jquery-2.0.0 sphinxcontrib-jsmath-1.0.1 sphinxcontrib-qthelp-1.0.3 sphinxcontrib-serializinghtml-1.1.5 xarray-2023.1.0\n",
      "Note: you may need to restart the kernel to use updated packages.\n"
     ]
    }
   ],
   "source": [
    "pip install qiskit-metal\n"
   ]
  },
  {
   "cell_type": "code",
   "execution_count": 15,
   "metadata": {},
   "outputs": [
    {
     "data": {
      "image/png": "[encoded data removed]",
      "text/plain": [
       "<Figure size 504x504 with 2 Axes>"
      ]
     },
     "execution_count": 15,
     "metadata": {},
     "output_type": "execute_result"
    }
   ],
   "source": [
    "from qiskit import QuantumCircuit, Aer, execute\n",
    "from qiskit.visualization import plot_state_qsphere\n",
    "\n",
    "# Create a 2-qubit quantum circuit\n",
    "qc = QuantumCircuit(2)\n",
    "qc.h(0)\n",
    "qc.cx(0, 1)\n",
    "\n",
    "# Simulate the circuit and get the state vector\n",
    "backend = Aer.get_backend('statevector_simulator')\n",
    "result = execute(qc, backend).result()\n",
    "statevector = result.get_statevector()\n",
    "\n",
    "# Plot the state vector in a 3D q-sphere\n",
    "plot_state_qsphere(statevector)\n"
   ]
  },
  {
   "cell_type": "code",
   "execution_count": 14,
   "metadata": {},
   "outputs": [
    {
     "data": {
      "image/png": "[encoded data removed]",
      "text/plain": [
       "<Figure size 504x504 with 2 Axes>"
      ]
     },
     "execution_count": 14,
     "metadata": {},
     "output_type": "execute_result"
    }
   ],
   "source": [
    "from qiskit import QuantumCircuit, execute\n",
    "from qiskit.visualization import plot_state_qsphere\n",
    "\n",
    "# Create a quantum circuit\n",
    "qc = QuantumCircuit(1)\n",
    "qc.h(0)\n",
    "\n",
    "# Simulate the circuit and get the statevector\n",
    "backend = Aer.get_backend('statevector_simulator')\n",
    "result = execute(qc, backend).result()\n",
    "statevector = result.get_statevector()\n",
    "\n",
    "# Plot the statevector in 3D\n",
    "plot_state_qsphere(statevector)\n"
   ]
  },
  {
   "cell_type": "code",
   "execution_count": 18,
   "metadata": {},
   "outputs": [
    {
     "data": {
      "image/png": "[encoded data removed]",
      "text/plain": [
       "<Figure size 432x288 with 1 Axes>"
      ]
     },
     "metadata": {
      "needs_background": "light"
     },
     "output_type": "display_data"
    }
   ],
   "source": [
    "import numpy as np\n",
    "from qiskit import QuantumCircuit, Aer, execute\n",
    "from qiskit.visualization import plot_bloch_multivector, plot_histogram\n",
    "import matplotlib.pyplot as plt\n",
    "from matplotlib.animation import FuncAnimation\n",
    "\n",
    "# Create the circuit\n",
    "qc = QuantumCircuit(2)\n",
    "qc.h(0)\n",
    "qc.cx(0, 1)\n",
    "\n",
    "# Define the backend and number of shots\n",
    "backend = Aer.get_backend('statevector_simulator')\n",
    "num_shots = 1024\n",
    "\n",
    "# Function to update the animation with the current frame\n",
    "def update(frame):\n",
    "    # Add a rotation gate to the first qubit\n",
    "    angle = frame * np.pi / 20\n",
    "    qc.rx(angle, 0)\n",
    "    \n",
    "    # Simulate the circuit and get the statevector\n",
    "    result = execute(qc, backend).result()\n",
    "    statevector = result.get_statevector()\n",
    "    \n",
    "    # Update the Bloch sphere plot\n",
    "    ax.clear()\n",
    "    ax.set_title(f'Frame {frame}')\n",
    "    plot_bloch_multivector(statevector, ax=ax)\n",
    "\n",
    "# Create the figure and axis for the animation\n",
    "fig = plt.figure(figsize=(6, 4))\n",
    "ax = fig.add_subplot(1, 1, 1, projection='3d')\n",
    "\n",
    "# Create and run the animation\n",
    "anim = FuncAnimation(fig, update, frames=20, interval=200)\n",
    "plt.show()\n",
    "\n"
   ]
  },
  {
   "cell_type": "code",
   "execution_count": 24,
   "metadata": {},
   "outputs": [],
   "source": [
    "from qiskit.visualization import circuit_drawer\n",
    "\n",
    "circuit = QuantumCircuit(2, 2)\n",
    "circuit.h(0)\n",
    "circuit.cx(0, 1)\n",
    "circuit.measure([0, 1], [0, 1])\n",
    "\n",
    "figure = circuit_drawer(circuit, output='mpl')\n",
    "figure.show()\n",
    "\n",
    "\n"
   ]
  },
  {
   "cell_type": "code",
   "execution_count": 25,
   "metadata": {},
   "outputs": [
    {
     "name": "stderr",
     "output_type": "stream",
     "text": [
      "/opt/conda/lib/python3.8/site-packages/matplotlib/animation.py:889: UserWarning: Animation was deleted without rendering anything. This is most likely not intended. To prevent deletion, assign the Animation to a variable, e.g. `anim`, that exists until you have outputted the Animation using `plt.show()` or `anim.save()`.\n",
      "  warnings.warn(\n"
     ]
    },
    {
     "data": {
      "text/plain": [
       "<Figure size 432x288 with 0 Axes>"
      ]
     },
     "metadata": {},
     "output_type": "display_data"
    }
   ],
   "source": [
    "import matplotlib.pyplot as plt\n",
    "import numpy as np\n",
    "from qiskit import QuantumCircuit, execute, Aer\n",
    "from qiskit.visualization import plot_histogram\n",
    "from matplotlib.animation import FuncAnimation\n",
    "\n",
    "# Create a quantum circuit with a single qubit\n",
    "qc = QuantumCircuit(1, 1)\n",
    "\n",
    "# Define the animation function\n",
    "def animate(frame):\n",
    "    # Clear the circuit\n",
    "    qc.data = []\n",
    "\n",
    "    # Add a Hadamard gate with a rotation angle based on the frame number\n",
    "    angle = 2 * np.pi * frame / 100\n",
    "    qc.h(0)\n",
    "    qc.rz(angle, 0)\n",
    "    qc.h(0)\n",
    "\n",
    "    # Simulate the circuit and get the counts\n",
    "    backend = Aer.get_backend('qasm_simulator')\n",
    "    result = execute(qc, backend, shots=1024).result()\n",
    "    counts = result.get_counts()\n",
    "\n",
    "    # Plot the counts in real time\n",
    "    plt.clf()\n",
    "    plot_histogram(counts, ax=plt.gca(), color='gray')\n",
    "\n",
    "# Create the animation object\n",
    "anim = FuncAnimation(plt.gcf(), animate, frames=100, repeat=True)\n",
    "\n",
    "# Display the animation\n",
    "plt.show()\n"
   ]
  },
  {
   "cell_type": "code",
   "execution_count": 26,
   "metadata": {},
   "outputs": [],
   "source": [
    "plt.show()"
   ]
  },
  {
   "cell_type": "code",
   "execution_count": 30,
   "metadata": {},
   "outputs": [
    {
     "data": {
      "image/png": "[encoded data removed]",
      "text/plain": [
       "<Figure size 929.397x325.08 with 1 Axes>"
      ]
     },
     "execution_count": 30,
     "metadata": {},
     "output_type": "execute_result"
    }
   ],
   "source": [
    "from qiskit import QuantumCircuit\n",
    "from qiskit.visualization import circuit_drawer\n",
    "\n",
    "# Create a large circuit with many gates\n",
    "qc = QuantumCircuit(5)\n",
    "qc.h(0)\n",
    "qc.cx(0,1)\n",
    "qc.cx(1,2)\n",
    "qc.cx(2,3)\n",
    "qc.cx(3,4)\n",
    "qc.cx(4,0)\n",
    "qc.h(1)\n",
    "qc.cx(1,3)\n",
    "qc.cx(3,0)\n",
    "qc.cx(0,2)\n",
    "qc.cx(2,4)\n",
    "qc.h(3)\n",
    "qc.cx(3,4)\n",
    "qc.cx(4,2)\n",
    "qc.cx(2,1)\n",
    "qc.cx(1,0)\n",
    "\n",
    "# Draw the circuit using matplotlib\n",
    "circuit_drawer(qc, output='mpl')\n",
    "\n",
    "\n"
   ]
  },
  {
   "cell_type": "code",
   "execution_count": 2,
   "metadata": {},
   "outputs": [],
   "source": [
    "from qiskit import QuantumCircuit\n",
    "from qiskit.tools.visualization import circuit_drawer\n",
    "\n",
    "# create a simple 2-qubit circuit\n",
    "circ = QuantumCircuit(2)\n",
    "circ.h(0)\n",
    "circ.cx(0, 1)\n",
    "\n",
    "# generate the quantum painting\n",
    "fig = circuit_drawer(circ, output='mpl')\n",
    "\n",
    "# display the figure\n",
    "fig.show()\n",
    "\n"
   ]
  },
  {
   "cell_type": "code",
   "execution_count": 3,
   "metadata": {},
   "outputs": [
    {
     "name": "stderr",
     "output_type": "stream",
     "text": [
      "<frozen importlib._bootstrap>:219: RuntimeWarning: scipy._lib.messagestream.MessageStream size changed, may indicate binary incompatibility. Expected 56 from C header, got 64 from PyObject\n"
     ]
    },
    {
     "data": {
      "image/png": "[encoded data removed]",
      "text/plain": [
       "<Figure size 504x504 with 2 Axes>"
      ]
     },
     "execution_count": 3,
     "metadata": {},
     "output_type": "execute_result"
    }
   ],
   "source": [
    "from qiskit import QuantumCircuit, Aer, execute\n",
    "from qiskit.visualization import plot_bloch_multivector, plot_state_qsphere\n",
    "\n",
    "# create a quantum circuit with one qubit\n",
    "circuit = QuantumCircuit(1, 1)\n",
    "\n",
    "# apply a Hadamard gate to the qubit\n",
    "circuit.h(0)\n",
    "\n",
    "# draw the circuit\n",
    "circuit.draw()\n",
    "\n",
    "# simulate the circuit and get the resulting state vector\n",
    "backend = Aer.get_backend('statevector_simulator')\n",
    "result = execute(circuit, backend).result()\n",
    "statevector = result.get_statevector()\n",
    "\n",
    "# plot the state vector on the Bloch sphere\n",
    "plot_bloch_multivector(statevector)\n",
    "\n",
    "# plot the state vector on the 3D sphere\n",
    "plot_state_qsphere(statevector)\n"
   ]
  },
  {
   "cell_type": "code",
   "execution_count": 4,
   "metadata": {},
   "outputs": [],
   "source": [
    "# Import necessary packages\n",
    "from qiskit import QuantumCircuit, Aer, execute, transpile\n",
    "import numpy as np\n",
    "import matplotlib.pyplot as plt\n",
    "from PIL import Image\n",
    "\n",
    "# Set initial parameters\n",
    "npix = 64   # Number of pixels in the image\n",
    "nframes = 15    # Number of frames in the animation\n",
    "theta = np.pi/4  # Rotation factor (see quantum circuit below)\n",
    "backend = Aer.get_backend('qasm_simulator')\n",
    "\n",
    "# Create a function to convert boolean pixel array into an image\n",
    "def save_image(pixels, name, frame):\n",
    "    plt.imsave(\"frames/%s%i.png\" % (name, frame), pixels, cmap=\"cividis\")\n",
    "    im = Image.open(\"frames/%s%i.png\" % (name, frame))\n",
    "    im = im.resize((256,256), Image.NEAREST)\n",
    "    im.save(\"frames/%s%i.png\" % (name, frame))\n"
   ]
  },
  {
   "cell_type": "code",
   "execution_count": 5,
   "metadata": {},
   "outputs": [
    {
     "name": "stderr",
     "output_type": "stream",
     "text": [
      "/tmp/ipykernel_59/3581808446.py:4: DeprecationWarning: The QuantumCircuit.cu1 method is deprecated as of 0.16.0. It will be removed no earlier than 3 months after the release date. You should use the QuantumCircuit.cp method instead, which acts identically.\n",
      "  calc_qc.cu1(theta, qubit, 8)\n"
     ]
    },
    {
     "data": {
      "image/png": "[encoded data removed]",
      "text/plain": [
       "<Figure size 1110x626.08 with 1 Axes>"
      ]
     },
     "execution_count": 5,
     "metadata": {},
     "output_type": "execute_result"
    }
   ],
   "source": [
    "# Create the quantum circuit for a light wave\n",
    "calc_qc = QuantumCircuit(9, 1)\n",
    "for qubit in range(8):\n",
    "    calc_qc.cu1(theta, qubit, 8)\n",
    "calc_qc.measure(8,0)\n",
    "calc_qc.draw()\n"
   ]
  },
  {
   "cell_type": "code",
   "execution_count": 7,
   "metadata": {},
   "outputs": [],
   "source": [
    "def next_frame(pixels, npix):\n",
    "    # Create a quantum circuit for each pixel\n",
    "    qc_list = []\n",
    "    for x in range(npix):\n",
    "        for y in range(npix):\n",
    "            # Store values of adjacent pixels\n",
    "            adj_pixels = []\n",
    "            for d in range(3):\n",
    "                d -= 1\n",
    "                adj_pixels += [pixels[(relx+x-1)%(npix-1)][(y+d)%(npix-1)] for relx in range(3)]\n",
    "            adj_pixels.pop(4)  # Get rid of middle pixel\n",
    "            qc = QuantumCircuit(9,1)\n",
    "            # Set initial values of qubits according to pixel states:\n",
    "            for i in range(8):\n",
    "                if adj_pixels[i]:\n",
    "                    qc.x(i)\n",
    "            qc += calc_qc  # Append calculation circuit to initialization circuit\n",
    "            qc_list.append(qc)\n",
    "    tqc_list = transpile(qc_list, backend, optimization_level=0) # Transpile if necessary\n",
    "    job = execute(tqc_list, backend=backend, shots=1)\n",
    "    results = job.result()\n",
    "    new_pixels = np.zeros((npix,npix), dtype=bool)\n",
    "    for x in range(npix):\n",
    "        for y in range(npix):\n",
    "            if '0' in results.get_counts(qc_list.pop(0)):\n",
    "                new_pixels[x][y] = False\n",
    "            else:\n",
    "                new_pixels[x][y] = True\n",
    "    return new_pixels\n"
   ]
  },
  {
   "cell_type": "code",
   "execution_count": 14,
   "metadata": {},
   "outputs": [
    {
     "data": {
      "image/png": "[encoded data removed]",
      "text/plain": [
       "<Figure size 504x360 with 1 Axes>"
      ]
     },
     "execution_count": 14,
     "metadata": {},
     "output_type": "execute_result"
    }
   ],
   "source": [
    "from qiskit import *\n",
    "from qiskit.visualization import plot_histogram\n",
    "\n",
    "# Create a quantum circuit with 3 qubits and 3 classical bits\n",
    "qc = QuantumCircuit(3, 3)\n",
    "\n",
    "# Apply a Hadamard gate to qubit 0\n",
    "qc.h(0)\n",
    "\n",
    "# Apply a controlled-Not gate between qubit 0 and qubit 1\n",
    "qc.cx(0, 1)\n",
    "\n",
    "# Apply a controlled-Not gate between qubit 1 and qubit 2\n",
    "qc.cx(1, 2)\n",
    "\n",
    "# Measure qubits 0, 1, and 2, and store the result in classical bits 0, 1, and 2\n",
    "qc.measure([0, 1, 2], [0, 1, 2])\n",
    "\n",
    "# Use the Aer simulator to simulate the circuit\n",
    "simulator = Aer.get_backend('qasm_simulator')\n",
    "result = execute(qc, backend=simulator, shots=1024).result()\n",
    "\n",
    "# Plot the results\n",
    "plot_histogram(result.get_counts(qc))\n",
    "\n"
   ]
  },
  {
   "cell_type": "code",
   "execution_count": 15,
   "metadata": {},
   "outputs": [],
   "source": [
    "# Import everything\n",
    "from qiskit import QuantumCircuit, Aer, IBMQ, execute, transpile\n",
    "import matplotlib.pyplot as plt\n",
    "import matplotlib.cm as cm\n",
    "import math\n",
    "from time import sleep, time\n",
    "from qiskit.providers.aer.noise import NoiseModel\n",
    "from operator import attrgetter\n",
    "# For creating and displaying the GIFs:\n",
    "from PIL import Image\n",
    "from IPython.display import Image as IPYImage\n",
    "import ipywidgets\n",
    "npix = 32          # Number of pixels along one axis\n",
    "nframes = 32       # Number of frames in animation\n",
    "n = 5              # Number of qubits to use\n",
    "freq = 1           # Frequency of 'waves'\n",
    "gif_name = \"qpe_animation\" # Name of animated gif file"
   ]
  },
  {
   "cell_type": "code",
   "execution_count": 16,
   "metadata": {},
   "outputs": [],
   "source": [
    "# Define the QPE function:\n",
    "def qft_dagger(circ, n):\n",
    "    \"\"\"n-qubit QFTdagger the first n qubits in circ\"\"\"\n",
    "    # Don't forget the Swaps!\n",
    "    for qubit in range(int(n/2)):\n",
    "        circ.swap(qubit, n-qubit-1)\n",
    "    for j in range(n,0,-1):\n",
    "        k = n - j\n",
    "        for m in range(k):\n",
    "            circ.cu1(-math.pi/float(2**(k-m)), n-m-1, n-k-1)\n",
    "        circ.h(n-k-1)\n",
    "\n",
    "def phase_estimate(n, theta):\n",
    "    \"\"\"Does QPE on CU-gate with angle theta, using n qubits\"\"\"\n",
    "    qpe = QuantumCircuit(n, n-1)\n",
    "    qpe.x(n-1)\n",
    "    for qubit in range(n-1):\n",
    "        qpe.h(qubit)\n",
    "    repetitions = (n-2)**2\n",
    "    for counting_qubit in range(n-1):\n",
    "        for i in range(repetitions):\n",
    "            qpe.cu1(theta, counting_qubit, n-1); # This is C-U\n",
    "        repetitions //= 2\n",
    "    qft_dagger(qpe, n-1)\n",
    "    for qubit in range(n-1):\n",
    "        qpe.measure(qubit, (n-2)-qubit)\n",
    "    return qpe\n",
    "# Setup backend\n",
    "noise_model = None\n",
    "device = None\n",
    "backend = Aer.get_backend('qasm_simulator')"
   ]
  },
  {
   "cell_type": "code",
   "execution_count": 2,
   "metadata": {},
   "outputs": [
    {
     "name": "stderr",
     "output_type": "stream",
     "text": [
      "<frozen importlib._bootstrap>:219: RuntimeWarning: scipy._lib.messagestream.MessageStream size changed, may indicate binary incompatibility. Expected 56 from C header, got 64 from PyObject\n"
     ]
    },
    {
     "name": "stdout",
     "output_type": "stream",
     "text": [
      "{'00000010': 1024}\n"
     ]
    }
   ],
   "source": [
    "from qiskit import QuantumCircuit, Aer, execute\n",
    "\n",
    "# Define number of iterations\n",
    "n = 3\n",
    "\n",
    "# Define quantum circuit\n",
    "circ = QuantumCircuit(2**n,2**n)\n",
    "\n",
    "# Create Sierpinski triangle\n",
    "for i in range(n):\n",
    "    m = 2**i\n",
    "    for j in range(m):\n",
    "        circ.x(2*m-1)\n",
    "        for k in range(m-1):\n",
    "            circ.cnot(2*k,2*k+1)\n",
    "            circ.cnot(2*k+1,2*k)\n",
    "\n",
    "# Measure qubits\n",
    "for i in range(2**n):\n",
    "    circ.measure(i,i)\n",
    "\n",
    "# Simulate circuit\n",
    "backend = Aer.get_backend('qasm_simulator')\n",
    "job = execute(circ,backend=backend,shots=1024)\n",
    "counts = job.result().get_counts()\n",
    "\n",
    "# Print results\n",
    "print(counts)\n",
    "\n",
    "\n",
    "\n"
   ]
  },
  {
   "cell_type": "code",
   "execution_count": 5,
   "metadata": {},
   "outputs": [],
   "source": [
    "from qiskit import QuantumCircuit, Aer, execute\n",
    "\n",
    "def sierpinski_triangle(n):\n",
    "    # Create the initial state\n",
    "    qc = QuantumCircuit(2**n, 2**n)\n",
    "    qc.h(range(2**n))\n",
    "    qc.barrier()\n",
    "\n",
    "    # Define the Sierpinski gates\n",
    "    s = QuantumCircuit(2)\n",
    "    s.x(1)\n",
    "    s.cx(0, 1)\n",
    "    s.x(1)\n",
    "    s.barrier()\n",
    "\n",
    "    # Apply the Sierpinski gates to the circuit\n",
    "    for i in range(n):\n",
    "        for j in range(2**i):\n",
    "            qc.append(s, [2*i, 2*i+1])\n",
    "        for j in range(2**i):\n",
    "            qc.cx(2*i+1, 2*(i+1))\n",
    "            qc.cx(2*i, 2*(i+1)+1)\n",
    "        qc.barrier()\n",
    "\n",
    "    # Measure the final state\n",
    "    qc.measure(range(2**n), range(2**n))\n",
    "\n",
    "    # Simulate the circuit\n",
    "    simulator = Aer.get_backend('qasm_simulator')\n",
    "    result = execute(qc, simulator, shots=1).result()\n",
    "\n",
    "    # Print the triangle\n",
    "    triangle = \"\"\n",
    "    for i in range(2**n):\n",
    "        for j in range(2**n):\n",
    "            if result.get_counts()[f'{i:0{n}b}'][j] == '1':\n",
    "                triangle += \"*\"\n",
    "            else:\n",
    "                triangle += \" \"\n",
    "        triangle += \"\\n\"\n",
    "    print(triangle)\n"
   ]
  },
  {
   "cell_type": "code",
   "execution_count": 6,
   "metadata": {},
   "outputs": [
    {
     "name": "stdout",
     "output_type": "stream",
     "text": [
      "{'00': 1}\n",
      "{'00': 1}\n",
      "{'00': 1}\n",
      "{'00': 1}\n",
      "{'00': 1}\n",
      "{'00': 1}\n"
     ]
    },
    {
     "data": {
      "image/png": "[encoded data removed]",
      "text/plain": [
       "<Figure size 432x288 with 1 Axes>"
      ]
     },
     "metadata": {
      "needs_background": "light"
     },
     "output_type": "display_data"
    }
   ],
   "source": [
    "import matplotlib.pyplot as plt\n",
    "from qiskit import QuantumCircuit, Aer, execute\n",
    "\n",
    "# Define the circuit and initialize it with one qubit\n",
    "circ = QuantumCircuit(2, 2)\n",
    "\n",
    "# Define the Sierpinski triangle pattern\n",
    "triangle = [(0, 0), (1, 0), (1, 1), (0, 0), (0, 1), (1, 1)]\n",
    "\n",
    "# Create a list to hold the coordinates for each level of the triangle\n",
    "triangle_list = [triangle]\n",
    "\n",
    "# Iterate over the levels of the triangle\n",
    "for i in range(5):\n",
    "    # Create a new list for the coordinates of the next level\n",
    "    new_triangle = []\n",
    "    # Iterate over each line segment in the current level\n",
    "    for j in range(len(triangle) - 1):\n",
    "        # Calculate the midpoint of the line segment\n",
    "        x = (triangle[j][0] + triangle[j+1][0]) / 2\n",
    "        y = (triangle[j][1] + triangle[j+1][1]) / 2\n",
    "        # Add the midpoint and the end point of the line segment to the new triangle list\n",
    "        new_triangle.extend([(triangle[j][0], triangle[j][1]), (x, y), (triangle[j+1][0], triangle[j+1][1])])\n",
    "    # Update the triangle list with the new level\n",
    "    triangle_list.append(new_triangle)\n",
    "    # Set the current level to be the new level\n",
    "    triangle = new_triangle\n",
    "\n",
    "# Iterate over each level of the triangle\n",
    "for level in triangle_list:\n",
    "    # Iterate over each line segment in the level\n",
    "    for j in range(len(level) - 1):\n",
    "        # Get the coordinates of the two endpoints of the line segment\n",
    "        x1, y1 = level[j]\n",
    "        x2, y2 = level[j+1]\n",
    "        # If the line segment is on the same vertical line, apply a Z gate to the qubit\n",
    "        if x1 == x2:\n",
    "            if y1 > y2:\n",
    "                circ.z(0)\n",
    "            else:\n",
    "                circ.z(1)\n",
    "        # If the line segment is on the same horizontal line, apply an X gate to the qubit\n",
    "        elif y1 == y2:\n",
    "            if x1 > x2:\n",
    "                circ.x(0)\n",
    "            else:\n",
    "                circ.x(1)\n",
    "        # If the line segment is diagonal, apply a CNOT gate to the qubits\n",
    "        else:\n",
    "            if x1 > x2:\n",
    "                circ.cx(0, 1)\n",
    "            else:\n",
    "                circ.cx(1, 0)\n",
    "            if y1 > y2:\n",
    "                circ.cz(0, 1)\n",
    "            else:\n",
    "                circ.cz(1, 0)\n",
    "    # Measure the qubits and simulate the circuit\n",
    "    circ.measure([0, 1], [0, 1])\n",
    "    backend = Aer.get_backend('qasm_simulator')\n",
    "    job = execute(circ, backend, shots=1)\n",
    "    result = job.result().get_counts()\n",
    "    # Print the result\n",
    "    print(result)\n",
    "\n",
    "# Plot the Sierpinski triangle\n",
    "fig, ax = plt.subplots()\n",
    "for level in triangle_list:\n",
    "    x, y = zip(*level)\n",
    "    ax.plot(x, y, 'k', linewidth=0.5)\n",
    "ax.set_aspect('equal', 'box')\n",
    "plt.show()\n"
   ]
  },
  {
   "cell_type": "code",
   "execution_count": 7,
   "metadata": {},
   "outputs": [
    {
     "data": {
      "image/png": "[encoded data removed]",
      "text/plain": [
       "<Figure size 432x288 with 1 Axes>"
      ]
     },
     "metadata": {
      "needs_background": "light"
     },
     "output_type": "display_data"
    }
   ],
   "source": [
    "from qiskit import QuantumCircuit, Aer, execute\n",
    "import matplotlib.pyplot as plt\n",
    "\n",
    "# Create a quantum circuit with three qubits\n",
    "circ = QuantumCircuit(3)\n",
    "\n",
    "# Apply Hadamard gates to each qubit\n",
    "for i in range(3):\n",
    "    circ.h(i)\n",
    "\n",
    "# Apply a controlled-Z gate between qubits 0 and 1\n",
    "circ.cz(0, 1)\n",
    "\n",
    "# Apply a controlled-Z gate between qubits 1 and 2\n",
    "circ.cz(1, 2)\n",
    "\n",
    "# Measure all qubits\n",
    "circ.measure_all()\n",
    "\n",
    "# Run the circuit on a simulator\n",
    "backend = Aer.get_backend('qasm_simulator')\n",
    "job = execute(circ, backend, shots=1000)\n",
    "result = job.result()\n",
    "\n",
    "# Get the counts from the simulation results\n",
    "counts = result.get_counts(circ)\n",
    "\n",
    "# Plot the results\n",
    "plt.bar(counts.keys(), counts.values())\n",
    "plt.show()\n"
   ]
  },
  {
   "cell_type": "code",
   "execution_count": null,
   "metadata": {},
   "outputs": [],
   "source": []
  }
 ],
 "metadata": {
  "colab": {
   "provenance": []
  },
  "kernelspec": {
   "display_name": "Python 3 (ipykernel)",
   "language": "python",
   "name": "python3"
  },
  "language_info": {
   "codemirror_mode": {
    "name": "ipython",
    "version": 3
   },
   "file_extension": ".py",
   "mimetype": "text/x-python",
   "name": "python",
   "nbconvert_exporter": "python",
   "pygments_lexer": "ipython3",
   "version": "3.8.15"
  },
  "widgets": {
   "application/vnd.jupyter.widget-state+json": {
    "state": {},
    "version_major": 2,
    "version_minor": 0
   }
  }
 },
 "nbformat": 4,
 "nbformat_minor": 4
}
